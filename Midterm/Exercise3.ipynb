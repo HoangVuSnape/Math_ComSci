{
 "cells": [
  {
   "cell_type": "code",
   "execution_count": 1,
   "metadata": {},
   "outputs": [],
   "source": [
    "import numpy as np\n",
    "from scipy.stats import norm\n",
    "import matplotlib.pyplot as plt"
   ]
  },
  {
   "cell_type": "code",
   "execution_count": 2,
   "metadata": {},
   "outputs": [],
   "source": [
    "def run_3():\n",
    "    #generate synthetic data\n",
    "    n = 100\n",
    "    m = 200 \n",
    "    mu = 3\n",
    "    std = 2 \n",
    "    x_obs_1 = np.random.normal(loc=mu,scale=std,size=(n)) # x\n",
    "    x_obs_2 = np.random.normal(loc=mu,scale=std,size=(m))  # y\n",
    "\n",
    "    #we want to the following hypothesis\n",
    "    #H_0: TBC (mu_x)=TBC mu_y vs TBC (mu_x) !=TBC mu_y\n",
    "    # TBC:  Trung binh cong \n",
    "    \n",
    "    # Test statistic\n",
    "    # T_obs = TBC (mu_x) - TBC (mu_y)\n",
    "    # T ~ N(TBC (x) - TBC (x), 1/n^2 (Tong i-> n sigma ^ 2 ) + 1/n^2 (Tong i-> m sigma ^ 2 ))\n",
    "    T_obs = np.mean(x_obs_1) - np.mean(x_obs_2)\n",
    "    \n",
    "    # Scale = cang (1/100 ^ 2 * (2*100) + 1/ 200^2 * (2 * 200) ) = căn (0.03)\n",
    "    \n",
    "    scale =  np.sqrt(0.03) \n",
    "    # Số 2 là variance còn scale phải lấy std = Căn bậc 2. \n",
    "\n",
    "    #compute p-value\n",
    "    cdf = norm.cdf(T_obs, loc=0, scale=scale)\n",
    "    p_value = 2 * min(cdf, 1 - cdf)\n",
    "\n",
    "    return p_value"
   ]
  },
  {
   "cell_type": "code",
   "execution_count": 3,
   "metadata": {},
   "outputs": [
    {
     "name": "stdout",
     "output_type": "stream",
     "text": [
      "Count:  1645\n",
      "FPR:  0.1645\n"
     ]
    },
    {
     "data": {
      "image/png": "[encoded data removed]",
      "text/plain": [
       "<Figure size 640x480 with 1 Axes>"
      ]
     },
     "metadata": {},
     "output_type": "display_data"
    }
   ],
   "source": [
    "def test3():\n",
    "  max_iteration =10000\n",
    "  list_p_value =[]\n",
    "  alpha = 0.05 #kiểm soát mức độ lỗi\n",
    "  count=0\n",
    "\n",
    "  for _ in range(max_iteration):\n",
    "    p_value = run_3()\n",
    "    list_p_value.append(p_value)\n",
    "    # print(p_value)\n",
    "    if p_value <= alpha:\n",
    "      count +=1\n",
    "  print('Count: ',count)\n",
    "  print('FPR: ',count/max_iteration)\n",
    "\n",
    "  # Plot the distribution of p-values\n",
    "  list_p_value = np.array(list_p_value)\n",
    "  list_p_value = list_p_value.flatten()\n",
    "  plt.hist(list_p_value) #-> uniform distribution\n",
    "  plt.show()\n",
    "\n",
    "test3()"
   ]
  }
 ],
 "metadata": {
  "kernelspec": {
   "display_name": "torch",
   "language": "python",
   "name": "python3"
  },
  "language_info": {
   "codemirror_mode": {
    "name": "ipython",
    "version": 3
   },
   "file_extension": ".py",
   "mimetype": "text/x-python",
   "name": "python",
   "nbconvert_exporter": "python",
   "pygments_lexer": "ipython3",
   "version": "3.11.9"
  }
 },
 "nbformat": 4,
 "nbformat_minor": 2
}
