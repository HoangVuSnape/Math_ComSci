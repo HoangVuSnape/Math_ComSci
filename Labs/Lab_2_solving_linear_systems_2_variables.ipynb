{
 "cells": [
  {
   "cell_type": "markdown",
   "id": "560379d3",
   "metadata": {},
   "source": [
    "# Solving Linear Systems: 2 variables"
   ]
  },
  {
   "cell_type": "markdown",
   "id": "d6165c13",
   "metadata": {},
   "source": [
    "## Packages\n",
    "\n",
    "Load the `NumPy` package to access its functions."
   ]
  },
  {
   "cell_type": "code",
   "execution_count": 2,
   "id": "fa3dcf04",
   "metadata": {},
   "outputs": [],
   "source": [
    "import numpy as np"
   ]
  },
  {
   "cell_type": "markdown",
   "id": "3a5552bd",
   "metadata": {},
   "source": [
    "<a name='1'></a>\n",
    "## 1 - Representing and Solving System of Linear Equations using Matrices"
   ]
  },
  {
   "cell_type": "markdown",
   "id": "7de33135",
   "metadata": {},
   "source": [
    "<a name='1.1'></a>\n",
    "### 1.1 - System of Linear Equations\n",
    "\n",
    "A **system of linear equations** (or **linear system**) is a collection of one or more linear equations involving the same variables. For example:\n",
    "\n",
    "\n",
    "$$\\begin{cases} \n",
    "-x_1+3x_2=7, \\\\ 3x_1+2x_2=1, \\end{cases}\\tag{1}$$\n",
    "\n",
    "is a system of two equations with two unknown variables $x_1$, $x_2$. **To solve** a system of linear equations means to find such values of the variables $x_1$, $x_2$, that all of its equations are simultaneously satisfied.\n"
   ]
  },
  {
   "cell_type": "markdown",
   "id": "9b3741b6",
   "metadata": {},
   "source": [
    "<a name='1.2'></a>\n",
    "### 1.2 - Solving Systems of Linear Equations using Matrices"
   ]
  },
  {
   "cell_type": "code",
   "execution_count": 3,
   "id": "e5758e1b",
   "metadata": {},
   "outputs": [
    {
     "name": "stdout",
     "output_type": "stream",
     "text": [
      "Matrix A:\n",
      "[[-1.  3.]\n",
      " [ 3.  2.]]\n",
      "\n",
      "Array b:\n",
      "[7. 1.]\n"
     ]
    }
   ],
   "source": [
    "A = np.array([\n",
    "        [-1, 3],\n",
    "        [3, 2]\n",
    "    ], dtype=np.dtype(float))\n",
    "\n",
    "b = np.array([7, 1], dtype=np.dtype(float))\n",
    "\n",
    "print(\"Matrix A:\")\n",
    "print(A)\n",
    "print(\"\\nArray b:\")\n",
    "print(b)"
   ]
  },
  {
   "cell_type": "code",
   "execution_count": 4,
   "id": "ddc3b411",
   "metadata": {},
   "outputs": [
    {
     "name": "stdout",
     "output_type": "stream",
     "text": [
      "Shape of A: (2, 2)\n",
      "Shape of b: (2,)\n"
     ]
    }
   ],
   "source": [
    "print(\"Shape of A:\", A.shape)\n",
    "print(\"Shape of b:\", b.shape)"
   ]
  },
  {
   "cell_type": "code",
   "execution_count": 5,
   "id": "5e87fd89",
   "metadata": {},
   "outputs": [
    {
     "name": "stdout",
     "output_type": "stream",
     "text": [
      "Solution: [-1.  2.]\n"
     ]
    }
   ],
   "source": [
    "x = np.linalg.solve(A, b)\n",
    "\n",
    "print(\"Solution:\", x)"
   ]
  },
  {
   "cell_type": "markdown",
   "id": "0720e16c",
   "metadata": {},
   "source": [
    "<a name='1.3'></a>\n",
    "### 1.3 - Evaluating Determinant of a Matrix"
   ]
  },
  {
   "cell_type": "code",
   "execution_count": 6,
   "id": "6cb492c2",
   "metadata": {},
   "outputs": [
    {
     "name": "stdout",
     "output_type": "stream",
     "text": [
      "Determinant of matrix A: -11.000000000000002\n"
     ]
    }
   ],
   "source": [
    "d = np.linalg.det(A)\n",
    "\n",
    "print(\"Determinant of matrix A:\", d)"
   ]
  },
  {
   "cell_type": "markdown",
   "id": "696ec734",
   "metadata": {},
   "source": [
    "<a name='3'></a>\n",
    "## 2 - System of Linear Equations with No Solutions\n",
    "\n",
    "Given another system of linear equations:\n",
    "\n",
    "$$\\begin{cases} \n",
    "-x_1+3x_2=7, \\\\ 3x_1-9x_2=1, \\end{cases}\\tag{5}$$\n",
    "\n",
    "let's find the determinant of the corresponding matrix."
   ]
  },
  {
   "cell_type": "code",
   "execution_count": 7,
   "id": "4780129a",
   "metadata": {},
   "outputs": [
    {
     "name": "stdout",
     "output_type": "stream",
     "text": [
      "Determinant of matrix A_2: -4.996003610813175e-16\n"
     ]
    }
   ],
   "source": [
    "A_2 = np.array([\n",
    "        [-1, 3],\n",
    "        [3, -9]\n",
    "    ], dtype=np.dtype(float))\n",
    "\n",
    "b_2 = np.array([7, 1], dtype=np.dtype(float))\n",
    "\n",
    "d_2 = np.linalg.det(A_2)\n",
    "\n",
    "print(\"Determinant of matrix A_2:\", d_2)"
   ]
  },
  {
   "cell_type": "code",
   "execution_count": 11,
   "id": "14f088b4",
   "metadata": {},
   "outputs": [],
   "source": [
    "try:\n",
    "    x_2 = np.linalg.solve(A_2, b_2)\n",
    "except np.linalg.LinAlgError as err:\n",
    "    print(err)"
   ]
  },
  {
   "cell_type": "markdown",
   "id": "68fc0f8f",
   "metadata": {},
   "source": [
    "# Exercise class\n"
   ]
  },
  {
   "cell_type": "markdown",
   "id": "d6c368c5",
   "metadata": {},
   "source": [
    "Exe1: \n",
    "\n",
    "$$\\begin{cases} \n",
    "x+y+z=10, \\\\ x+2y+z=15, \\\\ x+y+2z=12, \\end{cases}\\tag{5}$$\n",
    "\n",
    "\n",
    "Exe2: \n",
    "\n",
    "$$\\begin{cases} \n",
    "x+y+z=10, \\\\ x+y+2z=15, \\\\ x+y+3z=18, \\end{cases}\\tag{5}$$"
   ]
  },
  {
   "cell_type": "code",
   "execution_count": 9,
   "id": "d2263058",
   "metadata": {},
   "outputs": [],
   "source": [
    "A_3 = np.array([\n",
    "        [1, 1, 1],\n",
    "        [1, 2, 1], \n",
    "        [1, 1, 2]\n",
    "    ], dtype=np.dtype(float))\n",
    "\n",
    "b_3 = np.array([10, 15, 12], dtype=np.dtype(float))\n"
   ]
  },
  {
   "cell_type": "code",
   "execution_count": 16,
   "id": "ff6004b3",
   "metadata": {},
   "outputs": [
    {
     "name": "stdout",
     "output_type": "stream",
     "text": [
      "Solution: [3. 5. 2.]\n"
     ]
    }
   ],
   "source": [
    "try:\n",
    "    x_3 = np.linalg.solve(A_3, b_3)\n",
    "    print(\"Solution:\", x_3)\n",
    "except np.linalg.LinAlgError as err:\n",
    "    print(err)"
   ]
  },
  {
   "cell_type": "markdown",
   "id": "ebbc4784",
   "metadata": {},
   "source": [
    "# Exercise 2"
   ]
  },
  {
   "cell_type": "code",
   "execution_count": 12,
   "id": "c12d0cf0",
   "metadata": {},
   "outputs": [],
   "source": [
    "A_4 = np.array([\n",
    "        [1, 1, 1],\n",
    "        [1, 1, 2], \n",
    "        [1, 1, 3]\n",
    "    ], dtype=np.dtype(float))\n",
    "\n",
    "b_4 = np.array([10, 15, 18], dtype=np.dtype(float))\n"
   ]
  },
  {
   "cell_type": "code",
   "execution_count": 15,
   "id": "fa05ba72",
   "metadata": {},
   "outputs": [
    {
     "name": "stdout",
     "output_type": "stream",
     "text": [
      "Determinant of matrix A: 0.0\n"
     ]
    }
   ],
   "source": [
    "d_4 = np.linalg.det(A_4)\n",
    "\n",
    "print(\"Determinant of matrix A:\", d_4)"
   ]
  },
  {
   "cell_type": "code",
   "execution_count": 14,
   "id": "c04713f4",
   "metadata": {},
   "outputs": [
    {
     "name": "stdout",
     "output_type": "stream",
     "text": [
      "Singular matrix\n"
     ]
    }
   ],
   "source": [
    "try:\n",
    "    x_4 = np.linalg.solve(A_4, b_4)\n",
    "except np.linalg.LinAlgError as err:\n",
    "    print(err)"
   ]
  }
 ],
 "metadata": {
  "kernelspec": {
   "display_name": "Python 3 (ipykernel)",
   "language": "python",
   "name": "python3"
  },
  "language_info": {
   "codemirror_mode": {
    "name": "ipython",
    "version": 3
   },
   "file_extension": ".py",
   "mimetype": "text/x-python",
   "name": "python",
   "nbconvert_exporter": "python",
   "pygments_lexer": "ipython3",
   "version": "3.11.9"
  }
 },
 "nbformat": 4,
 "nbformat_minor": 5
}
