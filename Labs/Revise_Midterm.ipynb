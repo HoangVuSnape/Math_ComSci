{
 "cells": [
  {
   "cell_type": "markdown",
   "metadata": {},
   "source": [
    "# Import lib"
   ]
  },
  {
   "cell_type": "code",
   "execution_count": 1,
   "metadata": {},
   "outputs": [],
   "source": [
    "import numpy as np\n",
    "from scipy.stats import norm\n",
    "import matplotlib.pyplot as plt"
   ]
  },
  {
   "cell_type": "markdown",
   "metadata": {},
   "source": [
    "# Exercise \n",
    "- In this below I have to revise 4 exercise\n",
    "  - mu = 0 \n",
    "  - mu1 = mu2\n",
    "  - mu = trung bình cộng của mu2 (mean(mu2))\n",
    "  - vector"
   ]
  },
  {
   "cell_type": "markdown",
   "metadata": {},
   "source": [
    "## Exercise 1\n",
    "- mu = 0 "
   ]
  },
  {
   "cell_type": "markdown",
   "metadata": {},
   "source": [
    "### Run"
   ]
  },
  {
   "cell_type": "code",
   "execution_count": 2,
   "metadata": {},
   "outputs": [],
   "source": [
    "## View\n",
    "n=1\n",
    "mu=0 #du`ng de tao data x_obs, muc dich la tinh p_value de xac dinh mu=0 hay mu !=0\n",
    "std =1 #standard deviation (xich ma) - độ lệch chuẩn\n",
    "x_obs = np.random.normal(loc=mu,scale=std,size=(n,1))"
   ]
  },
  {
   "cell_type": "code",
   "execution_count": 3,
   "metadata": {},
   "outputs": [
    {
     "data": {
      "text/plain": [
       "array([[-0.10746333]])"
      ]
     },
     "execution_count": 3,
     "metadata": {},
     "output_type": "execute_result"
    }
   ],
   "source": [
    "x_obs"
   ]
  },
  {
   "cell_type": "code",
   "execution_count": 4,
   "metadata": {},
   "outputs": [],
   "source": [
    "def run():\n",
    "    #generate synthetic data\n",
    "    n=1\n",
    "    mu=0 #du`ng de tao data x_obs, muc dich la tinh p_value de xac dinh mu=0 hay mu !=0\n",
    "    std =1 #standard deviation (xich ma) - độ lệch chuẩn\n",
    "    x_obs = np.random.normal(loc=mu,scale=std,size=(n,1))\n",
    "\n",
    "    #we want to the following hypothesis\n",
    "    #H_0: mu=0 vs H_1: mu!=0\n",
    "\n",
    "    #construct observed test-statistic\n",
    "    T_obs = x_obs\n",
    "    abs_T_obs = np.abs(T_obs)\n",
    "    # print(abs_T_obs)\n",
    "    \n",
    "    #compute p-value\n",
    "    p_value = 2 * (1- norm.cdf(abs_T_obs,loc=0, scale=1))\n",
    "    # print(p_value)\n",
    "    \n",
    "\n",
    "    return p_value\n",
    "\n"
   ]
  },
  {
   "cell_type": "code",
   "execution_count": 5,
   "metadata": {},
   "outputs": [
    {
     "data": {
      "text/plain": [
       "array([[0.15706573]])"
      ]
     },
     "execution_count": 5,
     "metadata": {},
     "output_type": "execute_result"
    }
   ],
   "source": [
    "run()"
   ]
  },
  {
   "cell_type": "code",
   "execution_count": 7,
   "metadata": {},
   "outputs": [
    {
     "name": "stdout",
     "output_type": "stream",
     "text": [
      "Count:  504\n",
      "FPR:  0.0504\n",
      "(10000, 1, 1)\n",
      "[[[0.20032624]]\n",
      "\n",
      " [[0.94535092]]\n",
      "\n",
      " [[0.18037036]]\n",
      "\n",
      " [[0.22891189]]\n",
      "\n",
      " [[0.45228311]]]\n",
      "0.18037036078620972\n"
     ]
    }
   ],
   "source": [
    "\n",
    "max_iteration =10000\n",
    "list_p_value =[]\n",
    "alpha = 0.05 #kiểm soát mức độ lỗi\n",
    "count=0\n",
    "\n",
    "for _ in range(max_iteration):\n",
    "    p_value = run()\n",
    "    list_p_value.append(p_value)\n",
    "\n",
    "    if p_value <= alpha:\n",
    "        count +=1\n",
    "print('Count: ',count)\n",
    "print('FPR: ',count/max_iteration)\n",
    "\n",
    "# Plot the distribution of p-values\n",
    "list_p_value = np.array(list_p_value)\n",
    "print(list_p_value.shape)\n",
    "print(list_p_value[0:5])\n",
    "print(list_p_value[2][0][0])\n",
    "# list_p_value = list_p_value.flatten()\n",
    "# print(list_p_value.shape)\n",
    "# plt.hist(list_p_value) #-> uniform distribution\n",
    "# plt.show()\n",
    "\n"
   ]
  },
  {
   "cell_type": "markdown",
   "metadata": {},
   "source": [
    "### Test"
   ]
  },
  {
   "cell_type": "code",
   "execution_count": 6,
   "metadata": {},
   "outputs": [
    {
     "name": "stdout",
     "output_type": "stream",
     "text": [
      "Count:  498\n",
      "FPR:  0.0498\n",
      "(10000, 1, 1)\n",
      "(10000,)\n"
     ]
    }
   ],
   "source": [
    "def test():\n",
    "  max_iteration =10000\n",
    "  list_p_value =[]\n",
    "  alpha = 0.05 #kiểm soát mức độ lỗi\n",
    "  count=0\n",
    "\n",
    "  for _ in range(max_iteration):\n",
    "    p_value = run()\n",
    "    list_p_value.append(p_value)\n",
    "\n",
    "    if p_value <= alpha:\n",
    "      count +=1\n",
    "  print('Count: ',count)\n",
    "  print('FPR: ',count/max_iteration)\n",
    "\n",
    "  # Plot the distribution of p-values\n",
    "  list_p_value = np.array(list_p_value)\n",
    "  print(list_p_value.shape)\n",
    "  list_p_value = list_p_value.flatten()\n",
    "  print(list_p_value.shape)\n",
    "  # plt.hist(list_p_value) #-> uniform distribution\n",
    "  # plt.show()\n",
    "\n",
    "test()"
   ]
  },
  {
   "cell_type": "markdown",
   "metadata": {},
   "source": [
    "## Exercise 2\n",
    "- mu1 = mu2"
   ]
  },
  {
   "cell_type": "code",
   "execution_count": 8,
   "metadata": {},
   "outputs": [
    {
     "data": {
      "text/plain": [
       "0.8573116786501107"
      ]
     },
     "execution_count": 8,
     "metadata": {},
     "output_type": "execute_result"
    }
   ],
   "source": [
    "def run_2():\n",
    "\n",
    "    #generate synthetic data\n",
    "    n=1 #phản hồi loại thuốc\n",
    "    mu=2 #du`ng de tao data x_obs, muc dich la tinh p_value de xac dinh mu=0 hay mu !=0\n",
    "    std =1 #standard deviation (xich ma) - độ lệch chuẩn\n",
    "\n",
    "    x_obs_1 = np.random.normal(loc=mu,scale=std,size=(n))[0]\n",
    "    x_obs_2 = np.random.normal(loc=mu,scale=std,size=(n))[0]\n",
    "\n",
    "    # print(x_obs)\n",
    "\n",
    "    #we want to the following hypothesis\n",
    "    #H_0: mu_1=mu_2 vs H_1: mu1!=mu_2\n",
    "    T_obs = x_obs_1 - x_obs_2\n",
    "\n",
    "    # Distribution of T, CHú ý là phải dùng công thức của thầy.\n",
    "    # T ~ N(mu1 - mu2, (1^2 + 1^2))\n",
    "    # T ~ N(mu1 - mu2, (2))\n",
    "    \n",
    "    # Số 2 là variance còn scale phải lấy std = Căn bậc 2. \n",
    "\n",
    "    #compute p-value\n",
    "    cdf = norm.cdf(T_obs, loc=0, scale=np.sqrt(2))\n",
    "    p_value = 2 * min(cdf, 1 - cdf)\n",
    "    # print(p_value)\n",
    "\n",
    "    return p_value\n",
    "\n",
    "run_2()"
   ]
  },
  {
   "cell_type": "code",
   "execution_count": 12,
   "metadata": {},
   "outputs": [
    {
     "name": "stdout",
     "output_type": "stream",
     "text": [
      "Count:  523\n",
      "FPR:  0.0523\n"
     ]
    },
    {
     "data": {
      "image/png": "[encoded data removed]",
      "text/plain": [
       "<Figure size 640x480 with 1 Axes>"
      ]
     },
     "metadata": {},
     "output_type": "display_data"
    }
   ],
   "source": [
    "def test2():\n",
    "  max_iteration =10000\n",
    "  list_p_value =[]\n",
    "  alpha = 0.05 #kiểm soát mức độ lỗi\n",
    "  count=0\n",
    "\n",
    "  for _ in range(max_iteration):\n",
    "    p_value = run_2()\n",
    "    list_p_value.append(p_value)\n",
    "\n",
    "    if p_value <= alpha:\n",
    "      count +=1\n",
    "  print('Count: ',count)\n",
    "  print('FPR: ',count/max_iteration)\n",
    "\n",
    "  # Plot the distribution of p-values\n",
    "  list_p_value = np.array(list_p_value)\n",
    "  list_p_value = list_p_value.flatten()\n",
    "  plt.hist(list_p_value) #-> uniform distribution\n",
    "  plt.show()\n",
    "\n",
    "test2()"
   ]
  },
  {
   "cell_type": "markdown",
   "metadata": {},
   "source": [
    "## Exercise 3\n",
    "- mu = trung bình cộng của mu2 (mean(mu2))"
   ]
  },
  {
   "cell_type": "code",
   "execution_count": 13,
   "metadata": {},
   "outputs": [
    {
     "data": {
      "text/plain": [
       "0.9764164582211354"
      ]
     },
     "execution_count": 13,
     "metadata": {},
     "output_type": "execute_result"
    }
   ],
   "source": [
    "def run_3():\n",
    "\n",
    "    #generate synthetic data\n",
    "    n=10 #phản hồi loại thuốc\n",
    "    mu=4 #du`ng de tao data x_obs, muc dich la tinh p_value de xac dinh mu=0 hay mu !=0\n",
    "    std =1 #standard deviation (xich ma) - độ lệch chuẩn\n",
    "\n",
    "    x_obs_1 = np.random.normal(loc=mu,scale=std,size=(1))\n",
    "    x_obs_2 = np.random.normal(loc=mu,scale=std,size=(n))\n",
    "\n",
    "    # print(x_obs)\n",
    "\n",
    "    #we want to the following hypothesis\n",
    "    #H_0: mu_1=mu_2 vs H_1: mu1!=mu_2\n",
    "    # T_obs = x_obs_1[0] - sum(x_obs_2) / n\n",
    "    T_obs = x_obs_1[0] - np.mean(x_obs_2)\n",
    "    \n",
    "    scale =  np.sqrt(1.1) \n",
    "    # Số 2 là variance còn scale phải lấy std = Căn bậc 2. \n",
    "\n",
    "    #compute p-value\n",
    "    cdf = norm.cdf(T_obs, loc=0, scale=scale)\n",
    "    p_value = 2 * min(cdf, 1 - cdf)\n",
    "    # print(p_value)\n",
    "\n",
    "    return p_value\n",
    "\n",
    "run_3()"
   ]
  },
  {
   "cell_type": "code",
   "execution_count": 14,
   "metadata": {},
   "outputs": [
    {
     "name": "stdout",
     "output_type": "stream",
     "text": [
      "Count:  537\n",
      "FPR:  0.0537\n"
     ]
    },
    {
     "data": {
      "image/png": "[encoded data removed]",
      "text/plain": [
       "<Figure size 640x480 with 1 Axes>"
      ]
     },
     "metadata": {},
     "output_type": "display_data"
    }
   ],
   "source": [
    "def test3():\n",
    "  max_iteration =10000\n",
    "  list_p_value =[]\n",
    "  alpha = 0.05 #kiểm soát mức độ lỗi\n",
    "  count=0\n",
    "\n",
    "  for _ in range(max_iteration):\n",
    "    p_value = run_3()\n",
    "    list_p_value.append(p_value)\n",
    "    # print(p_value)\n",
    "    if p_value <= alpha:\n",
    "      count +=1\n",
    "  print('Count: ',count)\n",
    "  print('FPR: ',count/max_iteration)\n",
    "\n",
    "  # Plot the distribution of p-values\n",
    "  list_p_value = np.array(list_p_value)\n",
    "  list_p_value = list_p_value.flatten()\n",
    "  plt.hist(list_p_value) #-> uniform distribution\n",
    "  plt.show()\n",
    "\n",
    "test3()"
   ]
  },
  {
   "cell_type": "markdown",
   "metadata": {},
   "source": [
    "## Exercise 4\n",
    "- Vector"
   ]
  },
  {
   "cell_type": "markdown",
   "metadata": {},
   "source": [
    "### View"
   ]
  },
  {
   "cell_type": "code",
   "execution_count": 39,
   "metadata": {},
   "outputs": [],
   "source": [
    "n = 10\n",
    "mu = np.zeros((n, 1))\n",
    "Sigma = np.identity(n)\n",
    "\n",
    "x = np.random.multivariate_normal(mu.flatten(), Sigma)\n",
    "x_re = x.reshape((n, 1))\n",
    "\n",
    "eta = np.zeros((n, 1))\n",
    "\n",
    "eta[1] = 1.0\n",
    "\n",
    "# Construct test-statistic\n",
    "\n",
    "T = np.dot(eta.T, x_re)[0][0]\n",
    "\n",
    "# Distribution of T ~ N(mu1 - mu2)\n",
    "variance_T = np.dot(eta.T, np.dot(Sigma, eta))[0][0]\n",
    "sigma_T = np.sqrt(variance_T)\n",
    "\n",
    "cdf = norm.cdf(T, loc=0, scale=sigma_T)\n",
    "p_value = 2 * min(cdf, 1 - cdf)\n",
    "    "
   ]
  },
  {
   "cell_type": "code",
   "execution_count": 23,
   "metadata": {},
   "outputs": [
    {
     "data": {
      "text/plain": [
       "array([[0.],\n",
       "       [0.],\n",
       "       [0.],\n",
       "       [0.],\n",
       "       [0.],\n",
       "       [0.],\n",
       "       [0.],\n",
       "       [0.],\n",
       "       [0.],\n",
       "       [0.]])"
      ]
     },
     "execution_count": 23,
     "metadata": {},
     "output_type": "execute_result"
    }
   ],
   "source": [
    "mu"
   ]
  },
  {
   "cell_type": "code",
   "execution_count": 22,
   "metadata": {},
   "outputs": [
    {
     "data": {
      "text/plain": [
       "array([[1., 0., 0., 0., 0., 0., 0., 0., 0., 0.],\n",
       "       [0., 1., 0., 0., 0., 0., 0., 0., 0., 0.],\n",
       "       [0., 0., 1., 0., 0., 0., 0., 0., 0., 0.],\n",
       "       [0., 0., 0., 1., 0., 0., 0., 0., 0., 0.],\n",
       "       [0., 0., 0., 0., 1., 0., 0., 0., 0., 0.],\n",
       "       [0., 0., 0., 0., 0., 1., 0., 0., 0., 0.],\n",
       "       [0., 0., 0., 0., 0., 0., 1., 0., 0., 0.],\n",
       "       [0., 0., 0., 0., 0., 0., 0., 1., 0., 0.],\n",
       "       [0., 0., 0., 0., 0., 0., 0., 0., 1., 0.],\n",
       "       [0., 0., 0., 0., 0., 0., 0., 0., 0., 1.]])"
      ]
     },
     "execution_count": 22,
     "metadata": {},
     "output_type": "execute_result"
    }
   ],
   "source": [
    "Sigma"
   ]
  },
  {
   "cell_type": "code",
   "execution_count": 31,
   "metadata": {},
   "outputs": [
    {
     "data": {
      "text/plain": [
       "array([-1.10356667, -1.84244145, -0.92942181, -0.61263046, -1.86940728,\n",
       "       -0.37520253,  0.99201631, -1.09820727,  0.14585426, -0.87670075])"
      ]
     },
     "execution_count": 31,
     "metadata": {},
     "output_type": "execute_result"
    }
   ],
   "source": [
    "x"
   ]
  },
  {
   "cell_type": "code",
   "execution_count": 38,
   "metadata": {},
   "outputs": [
    {
     "data": {
      "text/plain": [
       "(10, 1)"
      ]
     },
     "execution_count": 38,
     "metadata": {},
     "output_type": "execute_result"
    }
   ],
   "source": [
    "x_re.shape"
   ]
  },
  {
   "cell_type": "code",
   "execution_count": 37,
   "metadata": {},
   "outputs": [
    {
     "data": {
      "text/plain": [
       "(10, 1)"
      ]
     },
     "execution_count": 37,
     "metadata": {},
     "output_type": "execute_result"
    }
   ],
   "source": [
    "eta.shape"
   ]
  },
  {
   "cell_type": "code",
   "execution_count": 40,
   "metadata": {},
   "outputs": [
    {
     "data": {
      "text/plain": [
       "array([[1.57219566]])"
      ]
     },
     "execution_count": 40,
     "metadata": {},
     "output_type": "execute_result"
    }
   ],
   "source": [
    "T"
   ]
  },
  {
   "cell_type": "code",
   "execution_count": 41,
   "metadata": {},
   "outputs": [
    {
     "data": {
      "text/plain": [
       "1.0"
      ]
     },
     "execution_count": 41,
     "metadata": {},
     "output_type": "execute_result"
    }
   ],
   "source": [
    "variance_T"
   ]
  },
  {
   "cell_type": "markdown",
   "metadata": {},
   "source": [
    "### Run"
   ]
  },
  {
   "cell_type": "code",
   "execution_count": 46,
   "metadata": {},
   "outputs": [],
   "source": [
    "def run4():\n",
    "    # Define \n",
    "    \n",
    "    n = 10 \n",
    "    mu = np.zeros((n, 1))\n",
    "    \n",
    "    Sigma = np.identity(n)  # Std \n",
    "    \n",
    "    x = np.random.multivariate_normal(mu.flatten(), Sigma) \n",
    "    x = x.reshape((n, 1))\n",
    "    \n",
    "    eta = np.zeros((n, 1))\n",
    "    \n",
    "    eta[1] = 1.0\n",
    "    \n",
    "    \n",
    "    # Construct test-statistic\n",
    "    T = np.dot(eta.T, x)[0][0]\n",
    "    \n",
    "    # Distribution of T ~ N(mu1 - mu2)\n",
    "    variance_T = np.dot(eta.T, np.dot(Sigma, eta))[0][0]\n",
    "    sigma_T = np.sqrt(variance_T)\n",
    "    \n",
    "    cdf = norm.cdf(T, loc=0, scale=sigma_T)\n",
    "    \n",
    "    # p-value\n",
    "    p_value = 2 * min(cdf, 1 - cdf)\n",
    "    \n",
    "    return p_value"
   ]
  },
  {
   "cell_type": "code",
   "execution_count": 47,
   "metadata": {},
   "outputs": [
    {
     "name": "stdout",
     "output_type": "stream",
     "text": [
      "Count:  521\n",
      "FPR:  0.0521\n"
     ]
    },
    {
     "data": {
      "image/png": "[encoded data removed]",
      "text/plain": [
       "<Figure size 640x480 with 1 Axes>"
      ]
     },
     "metadata": {},
     "output_type": "display_data"
    }
   ],
   "source": [
    "def test4():\n",
    "  max_iteration =10000\n",
    "  list_p_value =[]\n",
    "  alpha = 0.05 #kiểm soát mức độ lỗi\n",
    "  count=0\n",
    "\n",
    "  for _ in range(max_iteration):\n",
    "    p_value = run4()\n",
    "    list_p_value.append(p_value)\n",
    "    # print(p_value)\n",
    "    if p_value <= alpha:\n",
    "      count +=1\n",
    "  print('Count: ',count)\n",
    "  print('FPR: ',count/max_iteration)\n",
    "\n",
    "  # Plot the distribution of p-values\n",
    "  list_p_value = np.array(list_p_value)\n",
    "  list_p_value = list_p_value.flatten()\n",
    "  plt.hist(list_p_value) #-> uniform distribution\n",
    "  plt.show()\n",
    "\n",
    "test4()"
   ]
  }
 ],
 "metadata": {
  "kernelspec": {
   "display_name": "torch",
   "language": "python",
   "name": "python3"
  },
  "language_info": {
   "codemirror_mode": {
    "name": "ipython",
    "version": 3
   },
   "file_extension": ".py",
   "mimetype": "text/x-python",
   "name": "python",
   "nbconvert_exporter": "python",
   "pygments_lexer": "ipython3",
   "version": "3.11.9"
  }
 },
 "nbformat": 4,
 "nbformat_minor": 2
}
