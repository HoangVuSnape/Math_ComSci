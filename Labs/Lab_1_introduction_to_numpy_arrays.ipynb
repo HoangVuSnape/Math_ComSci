{
 "cells": [
  {
   "cell_type": "markdown",
   "id": "existing-japanese",
   "metadata": {},
   "source": [
    "# Introduction to Python Matrices and NumPy #"
   ]
  },
  {
   "cell_type": "markdown",
   "id": "whole-fundamental",
   "metadata": {},
   "source": [
    "<a name='1'></a>\n",
    "# 1 - Basics of NumPy #\n",
    "\n",
    "NumPy is the main package for scientific computing in Python. It performs a wide variety of advanced mathematical operations with high efficiency. In this practice lab you will learn several key NumPy functions that will help you in future assignments, such as creating arrays, slicing, indexing, reshaping and stacking."
   ]
  },
  {
   "cell_type": "markdown",
   "id": "neutral-concern",
   "metadata": {},
   "source": [
    "<a name='1-1'></a>\n",
    "## 1.1 - Packages ##"
   ]
  },
  {
   "cell_type": "code",
   "execution_count": 1,
   "id": "under-hardware",
   "metadata": {},
   "outputs": [],
   "source": [
    "import numpy as np"
   ]
  },
  {
   "cell_type": "markdown",
   "id": "planned-billy",
   "metadata": {},
   "source": [
    "<a name='1-3'></a>\n",
    "## 1.2 - How to create NumPy arrays ##"
   ]
  },
  {
   "cell_type": "code",
   "execution_count": 2,
   "id": "single-amplifier",
   "metadata": {},
   "outputs": [
    {
     "name": "stdout",
     "output_type": "stream",
     "text": [
      "[1 2 3]\n"
     ]
    }
   ],
   "source": [
    "# Create and print a NumPy array 'a' containing the elements 1, 2, 3.\n",
    "a = np.array([1, 2, 3])\n",
    "print(a)"
   ]
  },
  {
   "cell_type": "code",
   "execution_count": 3,
   "id": "aggressive-beginning",
   "metadata": {},
   "outputs": [
    {
     "name": "stdout",
     "output_type": "stream",
     "text": [
      "[0 1 2]\n"
     ]
    }
   ],
   "source": [
    "# Create an array with 3 integers, starting from the default integer 0.\n",
    "b = np.arange(3)\n",
    "print(b)"
   ]
  },
  {
   "cell_type": "code",
   "execution_count": 4,
   "id": "mineral-assets",
   "metadata": {},
   "outputs": [
    {
     "name": "stdout",
     "output_type": "stream",
     "text": [
      "[ 1  4  7 10 13 16 19]\n"
     ]
    }
   ],
   "source": [
    "# Create an array that starts from the integer 1, ends at 20, incremented by 3.\n",
    "c = np.arange(1, 20, 3)\n",
    "print(c)"
   ]
  },
  {
   "cell_type": "code",
   "execution_count": 5,
   "id": "hispanic-offset",
   "metadata": {},
   "outputs": [
    {
     "name": "stdout",
     "output_type": "stream",
     "text": [
      "[  0.  25.  50.  75. 100.]\n"
     ]
    }
   ],
   "source": [
    "lin_spaced_arr = np.linspace(0, 100, 5)\n",
    "print(lin_spaced_arr)"
   ]
  },
  {
   "cell_type": "code",
   "execution_count": 6,
   "id": "black-worker",
   "metadata": {
    "scrolled": true
   },
   "outputs": [
    {
     "name": "stdout",
     "output_type": "stream",
     "text": [
      "[  0  25  50  75 100]\n"
     ]
    }
   ],
   "source": [
    "lin_spaced_arr_int = np.linspace(0, 100, 5, dtype=int)\n",
    "print(lin_spaced_arr_int)"
   ]
  },
  {
   "cell_type": "code",
   "execution_count": 7,
   "id": "specialized-intellectual",
   "metadata": {},
   "outputs": [
    {
     "name": "stdout",
     "output_type": "stream",
     "text": [
      "[ 1  4  7 10 13 16 19]\n"
     ]
    }
   ],
   "source": [
    "c_int = np.arange(1, 20, 3, dtype=int)\n",
    "print(c_int)"
   ]
  },
  {
   "cell_type": "code",
   "execution_count": 8,
   "id": "irish-greeting",
   "metadata": {},
   "outputs": [
    {
     "name": "stdout",
     "output_type": "stream",
     "text": [
      "[0. 1. 2.]\n"
     ]
    }
   ],
   "source": [
    "b_float = np.arange(3, dtype=float)\n",
    "print(b_float)"
   ]
  },
  {
   "cell_type": "code",
   "execution_count": 9,
   "id": "visible-logic",
   "metadata": {},
   "outputs": [
    {
     "name": "stdout",
     "output_type": "stream",
     "text": [
      "['Welcome to Math for ML!']\n"
     ]
    }
   ],
   "source": [
    "char_arr = np.array(['Welcome to Math for ML!'])\n",
    "print(char_arr)"
   ]
  },
  {
   "cell_type": "markdown",
   "id": "ready-backup",
   "metadata": {},
   "source": [
    "<a name='1-4'></a>\n",
    "## 1.3 - More on NumPy arrays ##"
   ]
  },
  {
   "cell_type": "code",
   "execution_count": 10,
   "id": "prime-gamma",
   "metadata": {},
   "outputs": [
    {
     "name": "stdout",
     "output_type": "stream",
     "text": [
      "[1. 1. 1.]\n"
     ]
    }
   ],
   "source": [
    "# Return a new array of shape 3, filled with ones. \n",
    "ones_arr = np.ones(3)\n",
    "print(ones_arr)"
   ]
  },
  {
   "cell_type": "code",
   "execution_count": 11,
   "id": "altered-timer",
   "metadata": {},
   "outputs": [
    {
     "name": "stdout",
     "output_type": "stream",
     "text": [
      "[0. 0. 0.]\n"
     ]
    }
   ],
   "source": [
    "# Return a new array of shape 3, filled with zeroes.\n",
    "zeros_arr = np.zeros(3)\n",
    "print(zeros_arr)"
   ]
  },
  {
   "cell_type": "code",
   "execution_count": 12,
   "id": "loaded-kansas",
   "metadata": {},
   "outputs": [
    {
     "name": "stdout",
     "output_type": "stream",
     "text": [
      "[0. 0. 0.]\n"
     ]
    }
   ],
   "source": [
    "# Return a new array of shape 3, without initializing entries.\n",
    "empt_arr = np.empty(3)\n",
    "print(empt_arr)"
   ]
  },
  {
   "cell_type": "code",
   "execution_count": 13,
   "id": "color-steps",
   "metadata": {},
   "outputs": [
    {
     "name": "stdout",
     "output_type": "stream",
     "text": [
      "[0.88838531 0.52513931 0.85405119]\n"
     ]
    }
   ],
   "source": [
    "# Return a new array of shape 3 with random numbers between 0 and 1.\n",
    "rand_arr = np.random.rand(3)\n",
    "print(rand_arr)"
   ]
  },
  {
   "cell_type": "markdown",
   "id": "angry-engagement",
   "metadata": {},
   "source": [
    "<a name='2'></a>\n",
    "# 2 - Multidimensional Arrays #"
   ]
  },
  {
   "attachments": {
    "0_Vh-pKXTJsdL-9FT0.png": {
     "image/png": "[encoded data removed]"
    }
   },
   "cell_type": "markdown",
   "id": "editorial-adobe",
   "metadata": {},
   "source": [
    "![0_Vh-pKXTJsdL-9FT0.png](attachment:0_Vh-pKXTJsdL-9FT0.png)"
   ]
  },
  {
   "cell_type": "code",
   "execution_count": 14,
   "id": "turned-nevada",
   "metadata": {},
   "outputs": [
    {
     "name": "stdout",
     "output_type": "stream",
     "text": [
      "[[1 2 3]\n",
      " [4 5 6]]\n"
     ]
    }
   ],
   "source": [
    "# Create a 2 dimensional array (2-D)\n",
    "two_dim_arr = np.array([[1,2,3], [4,5,6]])\n",
    "print(two_dim_arr)"
   ]
  },
  {
   "cell_type": "code",
   "execution_count": 15,
   "id": "assisted-traveler",
   "metadata": {},
   "outputs": [
    {
     "name": "stdout",
     "output_type": "stream",
     "text": [
      "[[1 2 3]\n",
      " [4 5 6]]\n"
     ]
    }
   ],
   "source": [
    "# 1-D array \n",
    "one_dim_arr = np.array([1, 2, 3, 4, 5, 6])\n",
    "\n",
    "# Multidimensional array using reshape()\n",
    "multi_dim_arr = np.reshape(one_dim_arr, (2,3))\n",
    "\n",
    "print(multi_dim_arr)"
   ]
  },
  {
   "cell_type": "markdown",
   "id": "threaded-continent",
   "metadata": {},
   "source": [
    "<!-- exercise: can you create an array with three rows and 4 columns using np.ones . Whats the dimension, size and shape of the array? -->"
   ]
  },
  {
   "cell_type": "markdown",
   "id": "loving-accordance",
   "metadata": {},
   "source": [
    "<a name='2-1'></a>\n",
    "## 2.1 - Finding size, shape and dimension. ##"
   ]
  },
  {
   "cell_type": "code",
   "execution_count": 16,
   "id": "caring-julian",
   "metadata": {},
   "outputs": [
    {
     "data": {
      "text/plain": [
       "2"
      ]
     },
     "execution_count": 16,
     "metadata": {},
     "output_type": "execute_result"
    }
   ],
   "source": [
    "# Dimension of the 2-D array multi_dim_arr\n",
    "multi_dim_arr.ndim"
   ]
  },
  {
   "cell_type": "code",
   "execution_count": 17,
   "id": "canadian-ribbon",
   "metadata": {},
   "outputs": [
    {
     "data": {
      "text/plain": [
       "(2, 3)"
      ]
     },
     "execution_count": 17,
     "metadata": {},
     "output_type": "execute_result"
    }
   ],
   "source": [
    "# Shape of the 2-D array multi_dim_arr\n",
    "multi_dim_arr.shape"
   ]
  },
  {
   "cell_type": "code",
   "execution_count": 18,
   "id": "infectious-peeing",
   "metadata": {},
   "outputs": [
    {
     "data": {
      "text/plain": [
       "6"
      ]
     },
     "execution_count": 18,
     "metadata": {},
     "output_type": "execute_result"
    }
   ],
   "source": [
    "# Size of the array multi_dim_arr\n",
    "multi_dim_arr.size"
   ]
  },
  {
   "cell_type": "markdown",
   "id": "mighty-berry",
   "metadata": {},
   "source": [
    "<a name='3'></a>\n",
    "# 3 - Array math operations #"
   ]
  },
  {
   "cell_type": "code",
   "execution_count": 19,
   "id": "exposed-shower",
   "metadata": {},
   "outputs": [
    {
     "name": "stdout",
     "output_type": "stream",
     "text": [
      "[ 3  7 11]\n",
      "[1 1 1]\n",
      "[ 2 12 30]\n"
     ]
    }
   ],
   "source": [
    "arr_1 = np.array([2, 4, 6])\n",
    "arr_2 = np.array([1, 3, 5])\n",
    "\n",
    "# Adding two 1-D arrays\n",
    "addition = arr_1 + arr_2\n",
    "print(addition)\n",
    "\n",
    "# Subtracting two 1-D arrays\n",
    "subtraction = arr_1 - arr_2\n",
    "print(subtraction)\n",
    "\n",
    "# Multiplying two 1-D arrays elementwise\n",
    "multiplication = arr_1 * arr_2\n",
    "print(multiplication)"
   ]
  },
  {
   "cell_type": "markdown",
   "id": "latest-slovenia",
   "metadata": {},
   "source": [
    "<a name='3-1'></a>\n",
    "## 3.1 - Multiplying vector with a scalar##"
   ]
  },
  {
   "cell_type": "code",
   "execution_count": 20,
   "id": "eligible-grant",
   "metadata": {},
   "outputs": [
    {
     "data": {
      "text/plain": [
       "array([1.6, 3.2])"
      ]
     },
     "execution_count": 20,
     "metadata": {},
     "output_type": "execute_result"
    }
   ],
   "source": [
    "vector = np.array([1, 2])\n",
    "vector * 1.6"
   ]
  },
  {
   "cell_type": "markdown",
   "id": "plain-thumbnail",
   "metadata": {},
   "source": [
    "<a name='4'></a>\n",
    "# 4 - Indexing and slicing #\n",
    "\n",
    "## 4.1 - Indexing ##"
   ]
  },
  {
   "cell_type": "code",
   "execution_count": 21,
   "id": "sought-amazon",
   "metadata": {},
   "outputs": [
    {
     "name": "stdout",
     "output_type": "stream",
     "text": [
      "3\n"
     ]
    }
   ],
   "source": [
    "# Select the third element of the array. Remember the counting starts from 0.\n",
    "a = ([1, 2, 3, 4, 5])\n",
    "print(a[2])"
   ]
  },
  {
   "cell_type": "code",
   "execution_count": 22,
   "id": "characteristic-positive",
   "metadata": {},
   "outputs": [
    {
     "name": "stdout",
     "output_type": "stream",
     "text": [
      "8\n"
     ]
    }
   ],
   "source": [
    "# Indexing on a 2-D array\n",
    "two_dim = np.array(([1, 2, 3],\n",
    "          [4, 5, 6], \n",
    "          [7, 8, 9]))\n",
    "\n",
    "# Select element number 8 from the 2-D array using indices i, j.\n",
    "print(two_dim[2][1])"
   ]
  },
  {
   "cell_type": "markdown",
   "id": "southwest-warrant",
   "metadata": {},
   "source": [
    "<a name='4-2'></a>\n",
    "## 4.2 - Slicing ##\n",
    "\n",
    "The syntax is: `array[start:end:step]`"
   ]
  },
  {
   "cell_type": "code",
   "execution_count": 23,
   "id": "moral-police",
   "metadata": {
    "scrolled": true
   },
   "outputs": [
    {
     "name": "stdout",
     "output_type": "stream",
     "text": [
      "[2, 3, 4]\n"
     ]
    }
   ],
   "source": [
    "# Slice the array a to get the array [2,3,4]\n",
    "sliced_arr = a[1:4]\n",
    "print(sliced_arr)"
   ]
  },
  {
   "cell_type": "code",
   "execution_count": 24,
   "id": "181bce55",
   "metadata": {},
   "outputs": [
    {
     "name": "stdout",
     "output_type": "stream",
     "text": [
      "[1, 2, 3]\n"
     ]
    }
   ],
   "source": [
    "# Slice the array a to get the array [1,2,3]\n",
    "sliced_arr = a[:3]\n",
    "print(sliced_arr)"
   ]
  },
  {
   "cell_type": "code",
   "execution_count": 25,
   "id": "63bfcd06",
   "metadata": {},
   "outputs": [
    {
     "name": "stdout",
     "output_type": "stream",
     "text": [
      "[3, 4, 5]\n"
     ]
    }
   ],
   "source": [
    "# Slice the array a to get the array [3,4,5]\n",
    "sliced_arr = a[2:]\n",
    "print(sliced_arr)"
   ]
  },
  {
   "cell_type": "code",
   "execution_count": 26,
   "id": "0469a119",
   "metadata": {},
   "outputs": [
    {
     "name": "stdout",
     "output_type": "stream",
     "text": [
      "[1, 3, 5]\n"
     ]
    }
   ],
   "source": [
    "# Slice the array a to get the array [1,3,5]\n",
    "sliced_arr = a[::2]\n",
    "print(sliced_arr)"
   ]
  },
  {
   "cell_type": "code",
   "execution_count": 27,
   "id": "norwegian-fence",
   "metadata": {},
   "outputs": [
    {
     "data": {
      "text/plain": [
       "array([[1, 2, 3],\n",
       "       [4, 5, 6]])"
      ]
     },
     "execution_count": 27,
     "metadata": {},
     "output_type": "execute_result"
    }
   ],
   "source": [
    "# Slice the two_dim array to get the first two rows\n",
    "sliced_arr_1 = two_dim[0:2]\n",
    "sliced_arr_1"
   ]
  },
  {
   "cell_type": "code",
   "execution_count": 28,
   "id": "structured-lease",
   "metadata": {},
   "outputs": [
    {
     "name": "stdout",
     "output_type": "stream",
     "text": [
      "[[4 5 6]\n",
      " [7 8 9]]\n"
     ]
    }
   ],
   "source": [
    "# Similarily, slice the two_dim array to get the last two rows\n",
    "sliced_two_dim_rows = two_dim[1:3]\n",
    "print(sliced_two_dim_rows)"
   ]
  },
  {
   "cell_type": "code",
   "execution_count": 29,
   "id": "fourth-center",
   "metadata": {},
   "outputs": [
    {
     "name": "stdout",
     "output_type": "stream",
     "text": [
      "[2 5 8]\n"
     ]
    }
   ],
   "source": [
    "sliced_two_dim_cols = two_dim[:,1]\n",
    "print(sliced_two_dim_cols)"
   ]
  },
  {
   "cell_type": "markdown",
   "id": "appointed-worry",
   "metadata": {},
   "source": [
    "<a name='5'></a>\n",
    "# 5 - Stacking #\n",
    "Finally, stacking is a feature of NumPy that leads to increased customization of arrays. It means to join two or more arrays, either horizontally or vertically, meaning that it is done along a new axis. \n",
    "\n",
    "- `np.vstack()` - stacks vertically\n",
    "- `np.hstack()` - stacks horizontally\n",
    "- `np.hsplit()` - splits an array into several smaller arrays"
   ]
  },
  {
   "cell_type": "code",
   "execution_count": 30,
   "id": "casual-sacramento",
   "metadata": {},
   "outputs": [
    {
     "name": "stdout",
     "output_type": "stream",
     "text": [
      "a1:\n",
      "[[1 1]\n",
      " [2 2]]\n",
      "a2:\n",
      "[[3 3]\n",
      " [4 4]]\n"
     ]
    }
   ],
   "source": [
    "a1 = np.array([[1,1], \n",
    "               [2,2]])\n",
    "a2 = np.array([[3,3],\n",
    "              [4,4]])\n",
    "print(f'a1:\\n{a1}')\n",
    "print(f'a2:\\n{a2}')"
   ]
  },
  {
   "cell_type": "code",
   "execution_count": 31,
   "id": "bizarre-welsh",
   "metadata": {},
   "outputs": [
    {
     "name": "stdout",
     "output_type": "stream",
     "text": [
      "[[1 1]\n",
      " [2 2]\n",
      " [3 3]\n",
      " [4 4]]\n"
     ]
    }
   ],
   "source": [
    "# Stack the arrays vertically\n",
    "vert_stack = np.vstack((a1, a2))\n",
    "print(vert_stack)\n"
   ]
  },
  {
   "cell_type": "code",
   "execution_count": 32,
   "id": "applicable-tampa",
   "metadata": {},
   "outputs": [
    {
     "name": "stdout",
     "output_type": "stream",
     "text": [
      "[[1 1 3 3]\n",
      " [2 2 4 4]]\n"
     ]
    }
   ],
   "source": [
    "# Stack the arrays horizontally\n",
    "horz_stack = np.hstack((a1, a2))\n",
    "print(horz_stack)"
   ]
  }
 ],
 "metadata": {
  "kernelspec": {
   "display_name": "Python 3 (ipykernel)",
   "language": "python",
   "name": "python3"
  },
  "language_info": {
   "codemirror_mode": {
    "name": "ipython",
    "version": 3
   },
   "file_extension": ".py",
   "mimetype": "text/x-python",
   "name": "python",
   "nbconvert_exporter": "python",
   "pygments_lexer": "ipython3",
   "version": "3.11.9"
  },
  "vscode": {
   "interpreter": {
    "hash": "56d44d6a8424451b5ce45d1ae0b0b7865dc60710e7f74571dd51dd80d7829ee9"
   }
  }
 },
 "nbformat": 4,
 "nbformat_minor": 5
}
